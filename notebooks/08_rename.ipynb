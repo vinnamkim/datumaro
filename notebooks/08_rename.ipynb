{
 "cells": [
  {
   "cell_type": "code",
   "execution_count": 1,
   "metadata": {},
   "outputs": [],
   "source": [
    "import datumaro as dm"
   ]
  },
  {
   "cell_type": "code",
   "execution_count": 2,
   "metadata": {},
   "outputs": [
    {
     "data": {
      "text/plain": [
       "Dataset\n",
       "\tsize=388\n",
       "\tsource_path=./ws_test/cvat_video_to_coco\n",
       "\tmedia_type=<class 'datumaro.components.media.Image'>\n",
       "\tannotated_items_count=388\n",
       "\tannotations_count=388\n",
       "subsets\n",
       "\tdefault: # of items=388, # of annotated items=388, # of annotations=388, annotation types=['bbox']\n",
       "infos\n",
       "\tcategories\n",
       "\tlabel: ['bbox']"
      ]
     },
     "execution_count": 2,
     "metadata": {},
     "output_type": "execute_result"
    }
   ],
   "source": [
    "dataset1 = dm.Dataset.import_from(\"./ws_test/cvat_video_to_coco\", \"coco\")\n",
    "dataset1"
   ]
  },
  {
   "cell_type": "code",
   "execution_count": 3,
   "metadata": {},
   "outputs": [
    {
     "data": {
      "text/plain": [
       "Dataset\n",
       "\tsize=388\n",
       "\tsource_path=./ws_test/cvat_video_to_coco\n",
       "\tmedia_type=<class 'datumaro.components.media.Image'>\n",
       "\tannotated_items_count=388\n",
       "\tannotations_count=388\n",
       "subsets\n",
       "\tdefault: # of items=388, # of annotated items=388, # of annotations=388, annotation types=['bbox']\n",
       "infos\n",
       "\tcategories\n",
       "\tlabel: ['bbox']"
      ]
     },
     "execution_count": 3,
     "metadata": {},
     "output_type": "execute_result"
    }
   ],
   "source": [
    "dataset2 = dm.Dataset.import_from(\"./ws_test/cvat_video_to_coco\", \"coco\")\n",
    "dataset2"
   ]
  },
  {
   "cell_type": "code",
   "execution_count": 4,
   "metadata": {},
   "outputs": [
    {
     "data": {
      "text/plain": [
       "Dataset\n",
       "\tsize=388\n",
       "\tsource_path=./ws_test/cvat_video_to_coco\n",
       "\tmedia_type=<class 'datumaro.components.media.Image'>\n",
       "\tannotated_items_count=388\n",
       "\tannotations_count=388\n",
       "subsets\n",
       "\tdefault: # of items=388, # of annotated items=388, # of annotations=388, annotation types=['bbox']\n",
       "infos\n",
       "\tcategories\n",
       "\tlabel: ['bbox']"
      ]
     },
     "execution_count": 4,
     "metadata": {},
     "output_type": "execute_result"
    }
   ],
   "source": [
    "dataset1.update(dataset2)"
   ]
  },
  {
   "cell_type": "code",
   "execution_count": 5,
   "metadata": {},
   "outputs": [
    {
     "name": "stdout",
     "output_type": "stream",
     "text": [
      "dataset1 item ids: ['frame_000000', 'frame_000001', 'frame_000002', 'frame_000003', 'frame_000004', 'frame_000005', 'frame_000006', 'frame_000007', 'frame_000008', 'frame_000009']\n",
      "dataset2 item ids: ['frame_000000', 'frame_000001', 'frame_000002', 'frame_000003', 'frame_000004', 'frame_000005', 'frame_000006', 'frame_000007', 'frame_000008', 'frame_000009']\n"
     ]
    }
   ],
   "source": [
    "print(\"dataset1 item ids:\", [item.id for item in dataset1][:10])\n",
    "print(\"dataset2 item ids:\", [item.id for item in dataset2][:10])"
   ]
  },
  {
   "cell_type": "code",
   "execution_count": 6,
   "metadata": {},
   "outputs": [
    {
     "name": "stderr",
     "output_type": "stream",
     "text": [
      "<>:1: DeprecationWarning: invalid escape sequence \\d\n",
      "<>:2: DeprecationWarning: invalid escape sequence \\d\n",
      "<>:1: DeprecationWarning: invalid escape sequence \\d\n",
      "<>:2: DeprecationWarning: invalid escape sequence \\d\n",
      "/tmp/ipykernel_2581/2244216972.py:1: DeprecationWarning: invalid escape sequence \\d\n",
      "  dataset1.transform(\"rename\", regex=\"|frame_(\\d+)|dataset1_frame_\\\\1|\")\n",
      "/tmp/ipykernel_2581/2244216972.py:2: DeprecationWarning: invalid escape sequence \\d\n",
      "  dataset2.transform(\"rename\", regex=\"|frame_(\\d+)|dataset2_frame_\\\\1|\")\n"
     ]
    },
    {
     "data": {
      "text/plain": [
       "Dataset\n",
       "\tsize=388\n",
       "\tsource_path=./ws_test/cvat_video_to_coco\n",
       "\tmedia_type=<class 'datumaro.components.media.Image'>\n",
       "\tannotated_items_count=388\n",
       "\tannotations_count=388\n",
       "subsets\n",
       "\tdefault: # of items=388, # of annotated items=388, # of annotations=388, annotation types=['bbox']\n",
       "infos\n",
       "\tcategories\n",
       "\tlabel: ['bbox']"
      ]
     },
     "execution_count": 6,
     "metadata": {},
     "output_type": "execute_result"
    }
   ],
   "source": [
    "dataset1.transform(\"rename\", regex=\"|frame_(\\d+)|dataset1_frame_\\\\1|\")\n",
    "dataset2.transform(\"rename\", regex=\"|frame_(\\d+)|dataset2_frame_\\\\1|\")"
   ]
  },
  {
   "cell_type": "code",
   "execution_count": 7,
   "metadata": {},
   "outputs": [
    {
     "name": "stdout",
     "output_type": "stream",
     "text": [
      "dataset1 item ids: ['dataset1_frame_000000', 'dataset1_frame_000001', 'dataset1_frame_000002', 'dataset1_frame_000003', 'dataset1_frame_000004', 'dataset1_frame_000005', 'dataset1_frame_000006', 'dataset1_frame_000007', 'dataset1_frame_000008', 'dataset1_frame_000009']\n",
      "dataset2 item ids: ['dataset2_frame_000000', 'dataset2_frame_000001', 'dataset2_frame_000002', 'dataset2_frame_000003', 'dataset2_frame_000004', 'dataset2_frame_000005', 'dataset2_frame_000006', 'dataset2_frame_000007', 'dataset2_frame_000008', 'dataset2_frame_000009']\n"
     ]
    }
   ],
   "source": [
    "print(\"dataset1 item ids:\", [item.id for item in dataset1][:10])\n",
    "print(\"dataset2 item ids:\", [item.id for item in dataset2][:10])"
   ]
  },
  {
   "cell_type": "code",
   "execution_count": 8,
   "metadata": {},
   "outputs": [
    {
     "data": {
      "text/plain": [
       "Dataset\n",
       "\tsize=776\n",
       "\tsource_path=./ws_test/cvat_video_to_coco\n",
       "\tmedia_type=<class 'datumaro.components.media.Image'>\n",
       "\tannotated_items_count=776\n",
       "\tannotations_count=776\n",
       "subsets\n",
       "\tdefault: # of items=776, # of annotated items=776, # of annotations=776, annotation types=['bbox']\n",
       "infos\n",
       "\tcategories\n",
       "\tlabel: ['bbox']"
      ]
     },
     "execution_count": 8,
     "metadata": {},
     "output_type": "execute_result"
    }
   ],
   "source": [
    "dataset1.update(dataset2)"
   ]
  },
  {
   "cell_type": "code",
   "execution_count": 9,
   "metadata": {},
   "outputs": [],
   "source": [
    "dataset1.export('./ws_test/export', 'coco', reindex=True, save_media=True)"
   ]
  },
  {
   "cell_type": "code",
   "execution_count": 10,
   "metadata": {},
   "outputs": [
    {
     "name": "stderr",
     "output_type": "stream",
     "text": [
      "WARNING:root:Not implemented: Found potentially conflicting source types with labels: instances, stuff. Only one type will be used: instances\n",
      "WARNING:root:Not implemented: conflicting source './ws_test/export/annotations/stuff_default.json' is skipped.\n"
     ]
    },
    {
     "data": {
      "text/plain": [
       "Dataset\n",
       "\tsize=776\n",
       "\tsource_path=./ws_test/export\n",
       "\tmedia_type=<class 'datumaro.components.media.Image'>\n",
       "\tannotated_items_count=776\n",
       "\tannotations_count=776\n",
       "subsets\n",
       "\tdefault: # of items=776, # of annotated items=776, # of annotations=776, annotation types=['bbox']\n",
       "infos\n",
       "\tcategories\n",
       "\tlabel: ['bbox']"
      ]
     },
     "execution_count": 10,
     "metadata": {},
     "output_type": "execute_result"
    }
   ],
   "source": [
    "dm.Dataset.import_from(\"./ws_test/export\", format=\"coco\")"
   ]
  }
 ],
 "metadata": {
  "kernelspec": {
   "display_name": "datumaro",
   "language": "python",
   "name": "python3"
  },
  "language_info": {
   "codemirror_mode": {
    "name": "ipython",
    "version": 3
   },
   "file_extension": ".py",
   "mimetype": "text/x-python",
   "name": "python",
   "nbconvert_exporter": "python",
   "pygments_lexer": "ipython3",
   "version": "3.9.13"
  },
  "orig_nbformat": 4
 },
 "nbformat": 4,
 "nbformat_minor": 2
}
